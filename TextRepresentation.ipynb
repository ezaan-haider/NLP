{
 "cells": [
  {
   "cell_type": "code",
   "execution_count": 1,
   "id": "d2bb00f3",
   "metadata": {},
   "outputs": [],
   "source": [
    "import pandas as pd"
   ]
  },
  {
   "cell_type": "code",
   "execution_count": 2,
   "id": "74a274e1",
   "metadata": {},
   "outputs": [],
   "source": [
    "df = pd.read_csv(\"IMDB Dataset.csv\")"
   ]
  },
  {
   "cell_type": "code",
   "execution_count": 3,
   "id": "233d1ba7",
   "metadata": {},
   "outputs": [
    {
     "data": {
      "text/html": [
       "<div>\n",
       "<style scoped>\n",
       "    .dataframe tbody tr th:only-of-type {\n",
       "        vertical-align: middle;\n",
       "    }\n",
       "\n",
       "    .dataframe tbody tr th {\n",
       "        vertical-align: top;\n",
       "    }\n",
       "\n",
       "    .dataframe thead th {\n",
       "        text-align: right;\n",
       "    }\n",
       "</style>\n",
       "<table border=\"1\" class=\"dataframe\">\n",
       "  <thead>\n",
       "    <tr style=\"text-align: right;\">\n",
       "      <th></th>\n",
       "      <th>review</th>\n",
       "      <th>sentiment</th>\n",
       "    </tr>\n",
       "  </thead>\n",
       "  <tbody>\n",
       "    <tr>\n",
       "      <th>0</th>\n",
       "      <td>One of the other reviewers has mentioned that ...</td>\n",
       "      <td>positive</td>\n",
       "    </tr>\n",
       "    <tr>\n",
       "      <th>1</th>\n",
       "      <td>A wonderful little production. &lt;br /&gt;&lt;br /&gt;The...</td>\n",
       "      <td>positive</td>\n",
       "    </tr>\n",
       "    <tr>\n",
       "      <th>2</th>\n",
       "      <td>I thought this was a wonderful way to spend ti...</td>\n",
       "      <td>positive</td>\n",
       "    </tr>\n",
       "    <tr>\n",
       "      <th>3</th>\n",
       "      <td>Basically there's a family where a little boy ...</td>\n",
       "      <td>negative</td>\n",
       "    </tr>\n",
       "    <tr>\n",
       "      <th>4</th>\n",
       "      <td>Petter Mattei's \"Love in the Time of Money\" is...</td>\n",
       "      <td>positive</td>\n",
       "    </tr>\n",
       "  </tbody>\n",
       "</table>\n",
       "</div>"
      ],
      "text/plain": [
       "                                              review sentiment\n",
       "0  One of the other reviewers has mentioned that ...  positive\n",
       "1  A wonderful little production. <br /><br />The...  positive\n",
       "2  I thought this was a wonderful way to spend ti...  positive\n",
       "3  Basically there's a family where a little boy ...  negative\n",
       "4  Petter Mattei's \"Love in the Time of Money\" is...  positive"
      ]
     },
     "execution_count": 3,
     "metadata": {},
     "output_type": "execute_result"
    }
   ],
   "source": [
    "df.head()"
   ]
  },
  {
   "cell_type": "code",
   "execution_count": 4,
   "id": "2b250037",
   "metadata": {},
   "outputs": [
    {
     "data": {
      "text/html": [
       "<div>\n",
       "<style scoped>\n",
       "    .dataframe tbody tr th:only-of-type {\n",
       "        vertical-align: middle;\n",
       "    }\n",
       "\n",
       "    .dataframe tbody tr th {\n",
       "        vertical-align: top;\n",
       "    }\n",
       "\n",
       "    .dataframe thead th {\n",
       "        text-align: right;\n",
       "    }\n",
       "</style>\n",
       "<table border=\"1\" class=\"dataframe\">\n",
       "  <thead>\n",
       "    <tr style=\"text-align: right;\">\n",
       "      <th></th>\n",
       "      <th>review</th>\n",
       "      <th>sentiment</th>\n",
       "    </tr>\n",
       "  </thead>\n",
       "  <tbody>\n",
       "    <tr>\n",
       "      <th>0</th>\n",
       "      <td>one of the other reviewers has mentioned that ...</td>\n",
       "      <td>positive</td>\n",
       "    </tr>\n",
       "    <tr>\n",
       "      <th>1</th>\n",
       "      <td>a wonderful little production. &lt;br /&gt;&lt;br /&gt;the...</td>\n",
       "      <td>positive</td>\n",
       "    </tr>\n",
       "    <tr>\n",
       "      <th>2</th>\n",
       "      <td>i thought this was a wonderful way to spend ti...</td>\n",
       "      <td>positive</td>\n",
       "    </tr>\n",
       "    <tr>\n",
       "      <th>3</th>\n",
       "      <td>basically there's a family where a little boy ...</td>\n",
       "      <td>negative</td>\n",
       "    </tr>\n",
       "    <tr>\n",
       "      <th>4</th>\n",
       "      <td>petter mattei's \"love in the time of money\" is...</td>\n",
       "      <td>positive</td>\n",
       "    </tr>\n",
       "  </tbody>\n",
       "</table>\n",
       "</div>"
      ],
      "text/plain": [
       "                                              review sentiment\n",
       "0  one of the other reviewers has mentioned that ...  positive\n",
       "1  a wonderful little production. <br /><br />the...  positive\n",
       "2  i thought this was a wonderful way to spend ti...  positive\n",
       "3  basically there's a family where a little boy ...  negative\n",
       "4  petter mattei's \"love in the time of money\" is...  positive"
      ]
     },
     "execution_count": 4,
     "metadata": {},
     "output_type": "execute_result"
    }
   ],
   "source": [
    "df[\"review\"] = df[\"review\"].str.lower()\n",
    "df.head()"
   ]
  },
  {
   "cell_type": "markdown",
   "id": "fcddac13",
   "metadata": {},
   "source": [
    "# Data preprocessing"
   ]
  },
  {
   "cell_type": "code",
   "execution_count": 5,
   "id": "ad825c7a",
   "metadata": {},
   "outputs": [
    {
     "data": {
      "text/html": [
       "<div>\n",
       "<style scoped>\n",
       "    .dataframe tbody tr th:only-of-type {\n",
       "        vertical-align: middle;\n",
       "    }\n",
       "\n",
       "    .dataframe tbody tr th {\n",
       "        vertical-align: top;\n",
       "    }\n",
       "\n",
       "    .dataframe thead th {\n",
       "        text-align: right;\n",
       "    }\n",
       "</style>\n",
       "<table border=\"1\" class=\"dataframe\">\n",
       "  <thead>\n",
       "    <tr style=\"text-align: right;\">\n",
       "      <th></th>\n",
       "      <th>review</th>\n",
       "      <th>sentiment</th>\n",
       "    </tr>\n",
       "  </thead>\n",
       "  <tbody>\n",
       "    <tr>\n",
       "      <th>0</th>\n",
       "      <td>one of the other reviewers has mentioned that ...</td>\n",
       "      <td>positive</td>\n",
       "    </tr>\n",
       "    <tr>\n",
       "      <th>1</th>\n",
       "      <td>a wonderful little production. the filming tec...</td>\n",
       "      <td>positive</td>\n",
       "    </tr>\n",
       "    <tr>\n",
       "      <th>2</th>\n",
       "      <td>i thought this was a wonderful way to spend ti...</td>\n",
       "      <td>positive</td>\n",
       "    </tr>\n",
       "    <tr>\n",
       "      <th>3</th>\n",
       "      <td>basically there's a family where a little boy ...</td>\n",
       "      <td>negative</td>\n",
       "    </tr>\n",
       "    <tr>\n",
       "      <th>4</th>\n",
       "      <td>petter mattei's \"love in the time of money\" is...</td>\n",
       "      <td>positive</td>\n",
       "    </tr>\n",
       "  </tbody>\n",
       "</table>\n",
       "</div>"
      ],
      "text/plain": [
       "                                              review sentiment\n",
       "0  one of the other reviewers has mentioned that ...  positive\n",
       "1  a wonderful little production. the filming tec...  positive\n",
       "2  i thought this was a wonderful way to spend ti...  positive\n",
       "3  basically there's a family where a little boy ...  negative\n",
       "4  petter mattei's \"love in the time of money\" is...  positive"
      ]
     },
     "execution_count": 5,
     "metadata": {},
     "output_type": "execute_result"
    }
   ],
   "source": [
    "import re\n",
    "def remove_html(text):\n",
    "    pattern = re.compile(\"<.*?>\")\n",
    "    return pattern.sub(r'', text)\n",
    "\n",
    "df[\"review\"] = df[\"review\"].apply(remove_html)\n",
    "df.head()"
   ]
  },
  {
   "cell_type": "code",
   "execution_count": 6,
   "id": "eeaad5db",
   "metadata": {},
   "outputs": [],
   "source": [
    "def remove_url(text):\n",
    "    pattern = re.compile(r'https?://\\S+|www\\.\\S+')\n",
    "    return pattern.sub(r'', text)\n",
    "\n",
    "df['review'] = df[\"review\"].apply(remove_url)"
   ]
  },
  {
   "cell_type": "code",
   "execution_count": 7,
   "id": "00f9162e",
   "metadata": {},
   "outputs": [
    {
     "data": {
      "text/html": [
       "<div>\n",
       "<style scoped>\n",
       "    .dataframe tbody tr th:only-of-type {\n",
       "        vertical-align: middle;\n",
       "    }\n",
       "\n",
       "    .dataframe tbody tr th {\n",
       "        vertical-align: top;\n",
       "    }\n",
       "\n",
       "    .dataframe thead th {\n",
       "        text-align: right;\n",
       "    }\n",
       "</style>\n",
       "<table border=\"1\" class=\"dataframe\">\n",
       "  <thead>\n",
       "    <tr style=\"text-align: right;\">\n",
       "      <th></th>\n",
       "      <th>review</th>\n",
       "      <th>sentiment</th>\n",
       "    </tr>\n",
       "  </thead>\n",
       "  <tbody>\n",
       "    <tr>\n",
       "      <th>0</th>\n",
       "      <td>one of the other reviewers has mentioned that ...</td>\n",
       "      <td>positive</td>\n",
       "    </tr>\n",
       "    <tr>\n",
       "      <th>1</th>\n",
       "      <td>a wonderful little production the filming tech...</td>\n",
       "      <td>positive</td>\n",
       "    </tr>\n",
       "    <tr>\n",
       "      <th>2</th>\n",
       "      <td>i thought this was a wonderful way to spend ti...</td>\n",
       "      <td>positive</td>\n",
       "    </tr>\n",
       "    <tr>\n",
       "      <th>3</th>\n",
       "      <td>basically theres a family where a little boy j...</td>\n",
       "      <td>negative</td>\n",
       "    </tr>\n",
       "    <tr>\n",
       "      <th>4</th>\n",
       "      <td>petter matteis love in the time of money is a ...</td>\n",
       "      <td>positive</td>\n",
       "    </tr>\n",
       "  </tbody>\n",
       "</table>\n",
       "</div>"
      ],
      "text/plain": [
       "                                              review sentiment\n",
       "0  one of the other reviewers has mentioned that ...  positive\n",
       "1  a wonderful little production the filming tech...  positive\n",
       "2  i thought this was a wonderful way to spend ti...  positive\n",
       "3  basically theres a family where a little boy j...  negative\n",
       "4  petter matteis love in the time of money is a ...  positive"
      ]
     },
     "execution_count": 7,
     "metadata": {},
     "output_type": "execute_result"
    }
   ],
   "source": [
    "import string\n",
    "punc = string.punctuation\n",
    "\n",
    "def remove_punc(text):\n",
    "    for char in punc:\n",
    "        text = text.replace(char, '')\n",
    "    return text\n",
    "\n",
    "df[\"review\"] = df[\"review\"].apply(remove_punc)\n",
    "df.head()"
   ]
  },
  {
   "cell_type": "markdown",
   "id": "78f47498",
   "metadata": {},
   "source": [
    "# Word count and vocabulary"
   ]
  },
  {
   "cell_type": "code",
   "execution_count": 8,
   "id": "43ddb3c2",
   "metadata": {},
   "outputs": [],
   "source": [
    "'''\n",
    "def word_count(text):\n",
    "    count=0\n",
    "    for i in range(0, len(text)):\n",
    "        if text[i] == \" \":\n",
    "            count=count+1\n",
    "    return count+1\n",
    "'''\n",
    "\n",
    "def word_count(text):\n",
    "    return len(text.split())"
   ]
  },
  {
   "cell_type": "code",
   "execution_count": 9,
   "id": "fbbfecc5",
   "metadata": {},
   "outputs": [
    {
     "data": {
      "text/plain": [
       "11312631"
      ]
     },
     "execution_count": 9,
     "metadata": {},
     "output_type": "execute_result"
    }
   ],
   "source": [
    "df[\"review\"].apply(word_count).sum()"
   ]
  },
  {
   "cell_type": "code",
   "execution_count": 10,
   "id": "7a31453e",
   "metadata": {},
   "outputs": [
    {
     "data": {
      "text/plain": [
       "'bad plot bad dialogue bad acting idiotic directing the annoying porn groove soundtrack that ran continually over the overacted script and a crappy copy of the vhs cannot be redeemed by consuming liquor trust me because i stuck this turkey out to the end it was so pathetically bad all over that i had to figure it was a fourthrate spoof of springtime for hitlerthe girl who played janis joplin was the only faint spark of interest and that was only because she could sing better than the originalif you want to watch something similar but a thousand times better then watch beyond the valley of the dolls'"
      ]
     },
     "execution_count": 10,
     "metadata": {},
     "output_type": "execute_result"
    }
   ],
   "source": [
    "df.loc[49996, \"review\"]"
   ]
  },
  {
   "cell_type": "code",
   "execution_count": 11,
   "id": "e910c4db",
   "metadata": {},
   "outputs": [],
   "source": [
    "def get_unique_words_corpus(series):\n",
    "    all_text = \" \".join(series.astype(str))\n",
    "    unique_words = set(all_text.split())\n",
    "    return unique_words"
   ]
  },
  {
   "cell_type": "code",
   "execution_count": 12,
   "id": "8d26e7bc",
   "metadata": {},
   "outputs": [
    {
     "data": {
      "text/plain": [
       "222572"
      ]
     },
     "execution_count": 12,
     "metadata": {},
     "output_type": "execute_result"
    }
   ],
   "source": [
    "len(get_unique_words_corpus(df[\"review\"]))"
   ]
  },
  {
   "cell_type": "markdown",
   "id": "b18b1b8f",
   "metadata": {},
   "source": [
    "# Bag of words"
   ]
  },
  {
   "cell_type": "code",
   "execution_count": 13,
   "id": "876b6916",
   "metadata": {},
   "outputs": [
    {
     "name": "stdout",
     "output_type": "stream",
     "text": [
      "Bag of Words shape: (50000, 221259)\n"
     ]
    }
   ],
   "source": [
    "from sklearn.feature_extraction.text import CountVectorizer\n",
    "\n",
    "bow_vectorizer = CountVectorizer()\n",
    "bow_matrix = bow_vectorizer.fit_transform(df['review'])\n",
    "\n",
    "# Shape: (num_samples, num_unique_words)\n",
    "print(\"Bag of Words shape:\", bow_matrix.shape)"
   ]
  },
  {
   "cell_type": "code",
   "execution_count": 14,
   "id": "99f21e62",
   "metadata": {},
   "outputs": [
    {
     "name": "stdout",
     "output_type": "stream",
     "text": [
      "one: 139400\n",
      "of: 138049\n",
      "the: 194312\n",
      "other: 141293\n",
      "reviewers: 163115\n",
      "has: 88563\n",
      "mentioned: 123387\n",
      "that: 194056\n",
      "after: 7623\n",
      "watching: 212020\n",
      "just: 105600\n",
      "oz: 143147\n",
      "episode: 64538\n",
      "youll: 219943\n",
      "be: 20360\n",
      "hooked: 93680\n",
      "they: 195383\n",
      "are: 14200\n",
      "right: 163887\n",
      "as: 15185\n",
      "this: 195911\n",
      "is: 101549\n",
      "exactly: 66494\n",
      "what: 214178\n",
      "happened: 87824\n",
      "with: 216172\n",
      "methe: 123992\n",
      "first: 73574\n",
      "thing: 195504\n",
      "struck: 187051\n",
      "me: 122110\n",
      "about: 4827\n",
      "was: 211615\n",
      "its: 102629\n",
      "brutality: 29025\n",
      "and: 11373\n",
      "unflinching: 205163\n",
      "scenes: 169347\n",
      "violence: 209701\n",
      "which: 214490\n",
      "set: 173676\n",
      "in: 97851\n",
      "from: 77634\n",
      "word: 217076\n",
      "go: 82277\n",
      "trust: 202075\n",
      "not: 136009\n",
      "show: 176055\n",
      "for: 75469\n",
      "faint: 69031\n",
      "hearted: 89456\n",
      "or: 140606\n",
      "timid: 197973\n",
      "pulls: 155815\n",
      "no: 134651\n",
      "punches: 155898\n",
      "regards: 160512\n",
      "to: 198356\n",
      "drugs: 58773\n",
      "sex: 173942\n",
      "hardcore: 88121\n",
      "classic: 38396\n",
      "use: 207170\n",
      "wordit: 217095\n",
      "called: 31236\n",
      "nickname: 134078\n",
      "given: 81817\n",
      "oswald: 141268\n",
      "maximum: 121411\n",
      "security: 171547\n",
      "state: 184633\n",
      "penitentary: 146037\n",
      "it: 102050\n",
      "focuses: 74980\n",
      "mainly: 118377\n",
      "on: 139243\n",
      "emerald: 62416\n",
      "city: 38092\n",
      "an: 11218\n",
      "experimental: 67611\n",
      "section: 171512\n",
      "prison: 153708\n",
      "where: 214445\n",
      "all: 9393\n",
      "cells: 34269\n",
      "have: 88864\n",
      "glass: 81943\n",
      "fronts: 77717\n",
      "face: 68619\n",
      "inwards: 101220\n",
      "so: 180078\n",
      "privacy: 153766\n",
      "high: 91352\n",
      "agenda: 8031\n",
      "em: 62256\n",
      "home: 93261\n",
      "manyaryans: 119650\n",
      "muslims: 131282\n",
      "gangstas: 79382\n",
      "latinos: 110851\n",
      "christians: 37298\n"
     ]
    }
   ],
   "source": [
    "#print(bow_vectorizer.vocabulary_)\n",
    "vocab = bow_vectorizer.vocabulary_\n",
    "for i, (word, index) in enumerate(vocab.items()):\n",
    "    print(f\"{word}: {index}\")\n",
    "    if i == 100:  # stop after 100 entries\n",
    "        break"
   ]
  },
  {
   "cell_type": "code",
   "execution_count": 15,
   "id": "906da344",
   "metadata": {},
   "outputs": [
    {
     "name": "stdout",
     "output_type": "stream",
     "text": [
      "[('abortion', 4800), ('abortionist', 4801), ('abortionistlots', 4802), ('abortionnot', 4803), ('abortions', 4804), ('abortionthe', 4805), ('abortive', 4806), ('aborts', 4807), ('abos', 4808), ('abott', 4809), ('abou', 4810), ('abound', 4811), ('aboundafter', 4812), ('aboundand', 4813), ('aboundbottom', 4814), ('aboundclint', 4815), ('aboundcoming', 4816), ('abounddays', 4817), ('abounded', 4818), ('abounding', 4819), ('abounds', 4820), ('aboundseverything', 4821), ('aboundsnot', 4822), ('aboundsthis', 4823), ('aboundthe', 4824), ('aboundthird', 4825), ('aboundtoday', 4826), ('about', 4827), ('about2', 4828), ('about4they', 4829), ('about800', 4830), ('abouta', 4831), ('aboutafter', 4832), ('aboutagirly', 4833), ('aboutalice', 4834), ('aboutall', 4835), ('aboutalso', 4836), ('aboutamerican', 4837), ('aboutand', 4838), ('aboutanother', 4839), ('aboutanyway', 4840), ('aboutapart', 4841), ('aboutarent', 4842), ('aboutas', 4843), ('aboutat', 4844), ('aboutavp1', 4845), ('aboutbeauty', 4846), ('aboutbeing', 4847), ('aboutbest', 4848), ('aboutbiko', 4849), ('aboutboul', 4850), ('aboutbut', 4851), ('aboutby', 4852), ('aboutcatscratch', 4853), ('aboutcliffhanger', 4854), ('aboutcolorful', 4855), ('aboutcombining', 4856), ('aboutcruda', 4857), ('aboutdespite', 4858), ('aboutdistant', 4859), ('aboutdont', 4860), ('aboutdustin', 4861), ('abouteven', 4862), ('aboutevery', 4863), ('abouteveryone', 4864), ('aboutface', 4865), ('aboutfirst', 4866), ('aboutfor', 4867), ('aboutfulci', 4868), ('aboutghoulies', 4869), ('aboutgorehounds', 4870), ('abouthas', 4871), ('abouthey', 4872), ('abouthowever', 4873), ('abouti', 4874), ('aboutif', 4875), ('aboutim', 4876), ('aboutimagine', 4877), ('aboutimprisoned', 4878), ('aboutin', 4879), ('aboutit', 4880), ('aboutits', 4881), ('aboutkeep', 4882), ('aboutkind', 4883), ('aboutlets', 4884), ('aboutlike', 4885), ('aboutluckily', 4886), ('aboutmake', 4887), ('aboutmy', 4888), ('aboutno', 4889), ('aboutnot', 4890), ('aboutnow', 4891), ('aboutoften', 4892), ('aboutok', 4893), ('abouton', 4894), ('aboutone', 4895), ('aboutor', 4896), ('aboutoutstanding', 4897), ('aboutoverall', 4898), ('aboutparker', 4899)]\n"
     ]
    }
   ],
   "source": [
    "sorted_vocab = sorted(vocab.items(), key=lambda x: x[1])\n",
    "print(sorted_vocab[4800:4900])  # First 100 items by index"
   ]
  },
  {
   "cell_type": "code",
   "execution_count": 16,
   "id": "3576c4b9",
   "metadata": {},
   "outputs": [
    {
     "data": {
      "text/plain": [
       "array(['00', '000', '0000000000001', '00000001', '000001', '0001',\n",
       "       '00015', '001', '0010', '002', '00383042', '006', '0069', '007',\n",
       "       '0079', '007s', '007the', '0080', '0083', '009', '00agent', '00s',\n",
       "       '00schneider', '01', '010', '01000', '0101', '010606', '010707',\n",
       "       '010guinea', '010objectionable', '010overall', '010ps', '0110',\n",
       "       '012310', '0126', '0130', '013007', '02', '0205', '0210', '0230',\n",
       "       '029', '02i', '03', '030', '03092005', '0310', '039', '03oct2009'],\n",
       "      dtype=object)"
      ]
     },
     "execution_count": 16,
     "metadata": {},
     "output_type": "execute_result"
    }
   ],
   "source": [
    "bow_vectorizer.get_feature_names_out()[:50]"
   ]
  },
  {
   "cell_type": "code",
   "execution_count": 17,
   "id": "598ae7cf",
   "metadata": {},
   "outputs": [
    {
     "name": "stdout",
     "output_type": "stream",
     "text": [
      "[[0 0 0 ... 0 0 0]]\n"
     ]
    }
   ],
   "source": [
    "print(bow_matrix[6].toarray())"
   ]
  },
  {
   "cell_type": "code",
   "execution_count": 18,
   "id": "3aebde14",
   "metadata": {},
   "outputs": [
    {
     "data": {
      "text/plain": [
       "array([[1, 0, 0, ..., 0, 0, 0]], dtype=int64)"
      ]
     },
     "execution_count": 18,
     "metadata": {},
     "output_type": "execute_result"
    }
   ],
   "source": [
    "bow_vectorizer.transform([\"00 i am a good boy 99\"]).toarray()"
   ]
  },
  {
   "cell_type": "markdown",
   "id": "62b2e011",
   "metadata": {},
   "source": [
    "# N-grams"
   ]
  },
  {
   "cell_type": "markdown",
   "id": "0854f546",
   "metadata": {},
   "source": [
    "## Bi-gram"
   ]
  },
  {
   "cell_type": "code",
   "execution_count": 19,
   "id": "19c117d0",
   "metadata": {},
   "outputs": [
    {
     "name": "stdout",
     "output_type": "stream",
     "text": [
      "Bigram shape: (50000, 2598869)\n"
     ]
    }
   ],
   "source": [
    "bigram_vectorizer = CountVectorizer(ngram_range=(2, 2))\n",
    "bigram_matrix = bigram_vectorizer.fit_transform(df['review'])\n",
    "print(\"Bigram shape:\", bigram_matrix.shape)"
   ]
  },
  {
   "cell_type": "code",
   "execution_count": 20,
   "id": "02769ffd",
   "metadata": {},
   "outputs": [
    {
     "data": {
      "text/plain": [
       "array(['00 agent', '00 comes', '00 for', '00 including', '00 its',\n",
       "       '00 schneider', '000 000', '000 overboard', '000 to',\n",
       "       '0000000000001 out', '00000001 of', '000001 chances',\n",
       "       '0001 percent', '00015 seconds', '001 and', '001 on', '001 to',\n",
       "       '001 was', '0010 and', '002 hope', '002 out', '00383042 kdos',\n",
       "       '006 but', '0069 tries', '007 about', '007 adventure',\n",
       "       '007 aficionado', '007 agent', '007 and', '007 appearances',\n",
       "       '007 as', '007 at', '007 atmosphereon', '007 because', '007 debut',\n",
       "       '007 didnt', '007 difficulty', '007 dr', '007 facing', '007 fans',\n",
       "       '007 fatima', '007 films', '007 following', '007 franchise',\n",
       "       '007 frwl', '007 gadgets', '007 game', '007 games', '007 gamesi',\n",
       "       '007 in'], dtype=object)"
      ]
     },
     "execution_count": 20,
     "metadata": {},
     "output_type": "execute_result"
    }
   ],
   "source": [
    "bigram_vectorizer.get_feature_names_out()[:50]"
   ]
  },
  {
   "cell_type": "code",
   "execution_count": 21,
   "id": "220d949c",
   "metadata": {},
   "outputs": [
    {
     "name": "stdout",
     "output_type": "stream",
     "text": [
      "one of: 1613060\n",
      "of the: 1585778\n",
      "the other: 2225746\n",
      "other reviewers: 1642840\n",
      "reviewers has: 1864423\n",
      "has mentioned: 991276\n",
      "mentioned that: 1410178\n",
      "that after: 2186664\n",
      "after watching: 65693\n",
      "watching just: 2468890\n",
      "just oz: 1232180\n",
      "oz episode: 1664005\n",
      "episode youll: 719813\n",
      "youll be: 2586987\n",
      "be hooked: 256005\n",
      "hooked they: 1066566\n",
      "they are: 2262393\n",
      "are right: 179710\n",
      "right as: 1871514\n",
      "as this: 202559\n",
      "this is: 2276539\n",
      "is exactly: 1173210\n",
      "exactly what: 745024\n",
      "what happened: 2494019\n",
      "happened with: 982458\n",
      "with methe: 2540256\n",
      "methe first: 1414758\n",
      "first thing: 827632\n",
      "thing that: 2267909\n",
      "that struck: 2196556\n",
      "struck me: 2113996\n",
      "me about: 1395615\n",
      "about oz: 30065\n",
      "oz was: 1664080\n",
      "was its: 2457927\n",
      "its brutality: 1197532\n",
      "brutality and: 354707\n",
      "and unflinching: 144013\n",
      "unflinching scenes: 2386611\n",
      "scenes of: 1921988\n",
      "of violence: 1587704\n",
      "violence which: 2436092\n",
      "which set: 2506430\n",
      "set in: 1964470\n",
      "in right: 1122651\n",
      "right from: 1871811\n",
      "from the: 881861\n",
      "the word: 2240461\n",
      "word go: 2556889\n",
      "go trust: 928937\n",
      "trust me: 2359755\n",
      "me this: 1397522\n",
      "is not: 1177782\n",
      "not show: 1541934\n",
      "show for: 1990929\n",
      "for the: 852906\n",
      "the faint: 2212890\n",
      "faint hearted: 770907\n",
      "hearted or: 1010666\n",
      "or timid: 1633101\n",
      "timid this: 2303724\n",
      "this show: 2279710\n",
      "show pulls: 1991526\n",
      "pulls no: 1787796\n",
      "no punches: 1528165\n",
      "punches with: 1788516\n",
      "with regards: 2542268\n",
      "regards to: 1838272\n",
      "to drugs: 2311426\n",
      "drugs sex: 663561\n",
      "sex or: 1968332\n",
      "or violence: 1633538\n",
      "violence its: 2435848\n",
      "its is: 1199938\n",
      "is hardcore: 1174741\n",
      "hardcore in: 985022\n",
      "in the: 1124746\n",
      "the classic: 2206960\n",
      "classic use: 458630\n",
      "use of: 2407691\n",
      "the wordit: 2240468\n",
      "wordit is: 2557342\n",
      "is called: 1170648\n",
      "called oz: 386462\n",
      "oz as: 1663981\n",
      "as that: 202490\n",
      "that is: 2191935\n",
      "is the: 1182113\n",
      "the nickname: 2224521\n",
      "nickname given: 1521265\n",
      "given to: 923817\n",
      "to the: 2321389\n",
      "the oswald: 2225744\n",
      "oswald maximum: 1640048\n",
      "maximum security: 1391198\n",
      "security state: 1940854\n",
      "state penitentary: 2087826\n",
      "penitentary it: 1689847\n",
      "it focuses: 1189965\n",
      "focuses mainly: 839386\n",
      "mainly on: 1359367\n"
     ]
    }
   ],
   "source": [
    "vocab = bigram_vectorizer.vocabulary_\n",
    "for i, (word, index) in enumerate(vocab.items()):\n",
    "    print(f\"{word}: {index}\")\n",
    "    if i == 100:  # stop after 100 entries\n",
    "        break"
   ]
  },
  {
   "cell_type": "code",
   "execution_count": 22,
   "id": "68c41683",
   "metadata": {},
   "outputs": [
    {
     "name": "stdout",
     "output_type": "stream",
     "text": [
      "[('00 agent', 0), ('00 comes', 1), ('00 for', 2), ('00 including', 3), ('00 its', 4), ('00 schneider', 5), ('000 000', 6), ('000 overboard', 7), ('000 to', 8), ('0000000000001 out', 9), ('00000001 of', 10), ('000001 chances', 11), ('0001 percent', 12), ('00015 seconds', 13), ('001 and', 14), ('001 on', 15), ('001 to', 16), ('001 was', 17), ('0010 and', 18), ('002 hope', 19), ('002 out', 20), ('00383042 kdos', 21), ('006 but', 22), ('0069 tries', 23), ('007 about', 24), ('007 adventure', 25), ('007 aficionado', 26), ('007 agent', 27), ('007 and', 28), ('007 appearances', 29), ('007 as', 30), ('007 at', 31), ('007 atmosphereon', 32), ('007 because', 33), ('007 debut', 34), ('007 didnt', 35), ('007 difficulty', 36), ('007 dr', 37), ('007 facing', 38), ('007 fans', 39), ('007 fatima', 40), ('007 films', 41), ('007 following', 42), ('007 franchise', 43), ('007 frwl', 44), ('007 gadgets', 45), ('007 game', 46), ('007 games', 47), ('007 gamesi', 48), ('007 in', 49), ('007 is', 50), ('007 james', 51), ('007 like', 52), ('007 makes', 53), ('007 maniacs', 54), ('007 more', 55), ('007 movie', 56), ('007 movies', 57), ('007 movieswhat', 58), ('007 mr', 59), ('007 music', 60), ('007 oh', 61), ('007 or', 62), ('007 out', 63), ('007 packed', 64), ('007 referred', 65), ('007 singlehandedly', 66), ('007 some', 67), ('007 spends', 68), ('007 spent', 69), ('007 that', 70), ('007 the', 71), ('007 theme', 72), ('007 when', 73), ('007 who', 74), ('0079 the', 75), ('007s casewill', 76), ('007s goldeneye', 77), ('007s he', 78), ('007s they', 79), ('007the excellent', 80), ('0080 and', 81), ('0080 focuses', 82), ('0080 is', 83), ('0080 war', 84), ('0083 stardust', 85), ('0083 the', 86), ('0083 then', 87), ('009 was', 88), ('00agent levels', 89), ('00s 1991', 90), ('00s and', 91), ('00s either', 92), ('00s however', 93), ('00s production', 94), ('00s several', 95), ('00s that', 96), ('00s the', 97), ('00s very', 98), ('00s wife', 99)]\n"
     ]
    }
   ],
   "source": [
    "sorted_vocab = sorted(vocab.items(), key=lambda x: x[1])\n",
    "print(sorted_vocab[:100])  # First 100 items by index"
   ]
  },
  {
   "cell_type": "markdown",
   "id": "8333776a",
   "metadata": {},
   "source": [
    "## Tri-gram"
   ]
  },
  {
   "cell_type": "code",
   "execution_count": 23,
   "id": "bab29300",
   "metadata": {},
   "outputs": [
    {
     "name": "stdout",
     "output_type": "stream",
     "text": [
      "trigram shape: (50000, 6702694)\n"
     ]
    }
   ],
   "source": [
    "trigram_vectorizer = CountVectorizer(ngram_range=(3, 3))\n",
    "trigram_matrix = trigram_vectorizer.fit_transform(df['review'])\n",
    "print(\"trigram shape:\", trigram_matrix.shape)"
   ]
  },
  {
   "cell_type": "code",
   "execution_count": 24,
   "id": "9db3e9c3",
   "metadata": {},
   "outputs": [
    {
     "data": {
      "text/plain": [
       "array(['00 agent difficult', '00 agent level', '00 comes back',\n",
       "       '00 for acting', '00 including the', '00 its worth',\n",
       "       '00 schneider and', '00 schneider directly', '000 000 overboard',\n",
       "       '000 to produce', '0000000000001 out of', '00000001 of the',\n",
       "       '000001 chances of', '0001 percent it', '00015 seconds with',\n",
       "       '001 and 360', '001 on the', '001 to believe', '001 was brief',\n",
       "       '0010 and would', '002 hope this', '002 out of',\n",
       "       '00383042 kdos okwwfst', '006 but the', '0069 tries to',\n",
       "       '007 about the', '007 adventure as', '007 aficionado nevertheless',\n",
       "       '007 agent and', '007 and decides', '007 and he', '007 and save',\n",
       "       '007 and their', '007 and this', '007 appearances the',\n",
       "       '007 as an', '007 at least', '007 atmosphereon the',\n",
       "       '007 because trust', '007 debut in', '007 didnt swing',\n",
       "       '007 difficulty our', '007 dr no', '007 facing the',\n",
       "       '007 fans would', '007 fatima is', '007 films made',\n",
       "       '007 following has', '007 franchise but', '007 franchise the'],\n",
       "      dtype=object)"
      ]
     },
     "execution_count": 24,
     "metadata": {},
     "output_type": "execute_result"
    }
   ],
   "source": [
    "trigram_vectorizer.get_feature_names_out()[:50]"
   ]
  },
  {
   "cell_type": "code",
   "execution_count": 25,
   "id": "d5cbda2f",
   "metadata": {},
   "outputs": [
    {
     "name": "stdout",
     "output_type": "stream",
     "text": [
      "one of the: 4065342\n",
      "of the other: 3964404\n",
      "the other reviewers: 5550694\n",
      "other reviewers has: 4145618\n",
      "reviewers has mentioned: 4606999\n",
      "has mentioned that: 2364043\n",
      "mentioned that after: 3488401\n",
      "that after watching: 5309986\n",
      "after watching just: 140380\n",
      "watching just oz: 6317163\n",
      "just oz episode: 3084529\n",
      "oz episode youll: 4197721\n",
      "episode youll be: 1715816\n",
      "youll be hooked: 6675952\n",
      "be hooked they: 725120\n",
      "hooked they are: 2587155\n",
      "they are right: 5720725\n",
      "are right as: 528589\n",
      "right as this: 4620227\n",
      "as this is: 598860\n",
      "this is exactly: 5781418\n",
      "is exactly what: 2865797\n",
      "exactly what happened: 1776858\n",
      "what happened with: 6388439\n",
      "happened with methe: 2341668\n",
      "with methe first: 6531824\n",
      "methe first thing: 3496425\n",
      "first thing that: 1980846\n",
      "thing that struck: 5745323\n",
      "that struck me: 5355995\n",
      "struck me about: 5160305\n",
      "me about oz: 3452822\n",
      "about oz was: 52668\n",
      "oz was its: 4197862\n",
      "was its brutality: 6273682\n",
      "its brutality and: 2998685\n",
      "brutality and unflinching: 939329\n",
      "and unflinching scenes: 432262\n",
      "unflinching scenes of: 6105859\n",
      "scenes of violence: 4726556\n",
      "of violence which: 3981736\n",
      "violence which set: 6218795\n",
      "which set in: 6430353\n",
      "set in right: 4825996\n",
      "in right from: 2735304\n",
      "right from the: 4621005\n",
      "from the word: 2116426\n",
      "the word go: 5647245\n",
      "word go trust: 6583690\n",
      "go trust me: 2219134\n",
      "trust me this: 6051500\n",
      "me this is: 3461612\n",
      "this is not: 5782057\n",
      "is not show: 2892580\n",
      "not show for: 3807799\n",
      "show for the: 4890820\n",
      "for the faint: 2046007\n",
      "the faint hearted: 5457806\n",
      "faint hearted or: 1830518\n",
      "hearted or timid: 2439524\n",
      "or timid this: 4122165\n",
      "timid this show: 5867424\n",
      "this show pulls: 5799372\n",
      "show pulls no: 4893503\n",
      "pulls no punches: 4448911\n",
      "no punches with: 3769913\n",
      "punches with regards: 4450186\n",
      "with regards to: 6539035\n",
      "regards to drugs: 4556594\n",
      "to drugs sex: 5900294\n",
      "drugs sex or: 1600354\n",
      "sex or violence: 4835479\n",
      "or violence its: 4123502\n",
      "violence its is: 6218179\n",
      "its is hardcore: 3006460\n",
      "is hardcore in: 2873461\n",
      "hardcore in the: 2348063\n",
      "in the classic: 2744896\n",
      "the classic use: 5420254\n",
      "classic use of: 1185432\n",
      "use of the: 6153242\n",
      "of the wordit: 3968440\n",
      "the wordit is: 5647496\n",
      "wordit is called: 6584594\n",
      "is called oz: 2855133\n",
      "called oz as: 1028666\n",
      "oz as that: 4197687\n",
      "as that is: 593623\n",
      "that is the: 5334994\n",
      "is the nickname: 2919621\n",
      "the nickname given: 5540140\n",
      "nickname given to: 3753450\n",
      "given to the: 2206896\n",
      "to the oswald: 5963215\n",
      "the oswald maximum: 5549768\n",
      "oswald maximum security: 4137267\n",
      "maximum security state: 3443523\n",
      "security state penitentary: 4766526\n",
      "state penitentary it: 5101518\n",
      "penitentary it focuses: 4245091\n",
      "it focuses mainly: 2955606\n"
     ]
    }
   ],
   "source": [
    "vocab = trigram_vectorizer.vocabulary_\n",
    "for i, (word, index) in enumerate(vocab.items()):\n",
    "    print(f\"{word}: {index}\")\n",
    "    if i == 100:  # stop after 100 entries\n",
    "        break"
   ]
  },
  {
   "cell_type": "code",
   "execution_count": 26,
   "id": "6af0790a",
   "metadata": {},
   "outputs": [
    {
     "name": "stdout",
     "output_type": "stream",
     "text": [
      "[('00 agent difficult', 0), ('00 agent level', 1), ('00 comes back', 2), ('00 for acting', 3), ('00 including the', 4), ('00 its worth', 5), ('00 schneider and', 6), ('00 schneider directly', 7), ('000 000 overboard', 8), ('000 to produce', 9), ('0000000000001 out of', 10), ('00000001 of the', 11), ('000001 chances of', 12), ('0001 percent it', 13), ('00015 seconds with', 14), ('001 and 360', 15), ('001 on the', 16), ('001 to believe', 17), ('001 was brief', 18), ('0010 and would', 19), ('002 hope this', 20), ('002 out of', 21), ('00383042 kdos okwwfst', 22), ('006 but the', 23), ('0069 tries to', 24), ('007 about the', 25), ('007 adventure as', 26), ('007 aficionado nevertheless', 27), ('007 agent and', 28), ('007 and decides', 29), ('007 and he', 30), ('007 and save', 31), ('007 and their', 32), ('007 and this', 33), ('007 appearances the', 34), ('007 as an', 35), ('007 at least', 36), ('007 atmosphereon the', 37), ('007 because trust', 38), ('007 debut in', 39), ('007 didnt swing', 40), ('007 difficulty our', 41), ('007 dr no', 42), ('007 facing the', 43), ('007 fans would', 44), ('007 fatima is', 45), ('007 films made', 46), ('007 following has', 47), ('007 franchise but', 48), ('007 franchise the', 49), ('007 frwl comes', 50), ('007 gadgets equaled', 51), ('007 game of', 52), ('007 games are', 53), ('007 gamesi give', 54), ('007 in the', 55), ('007 is his', 56), ('007 is not', 57), ('007 is now', 58), ('007 james bond', 59), ('007 like he', 60), ('007 makes it', 61), ('007 maniacs in', 62), ('007 more mature', 63), ('007 movie an', 64), ('007 movie if', 65), ('007 movie thunderball', 66), ('007 movie to', 67), ('007 movies baron', 68), ('007 movies in', 69), ('007 movies most', 70), ('007 movies this', 71), ('007 movies with', 72), ('007 movies wooden', 73), ('007 movieswhat puts', 74), ('007 mr moore', 75), ('007 music theme', 76), ('007 oh yeah', 77), ('007 or bruce', 78), ('007 out of', 79), ('007 packed off', 80), ('007 referred to', 81), ('007 singlehandedly trying', 82), ('007 some formidable', 83), ('007 spends more', 84), ('007 spent his', 85), ('007 that is', 86), ('007 the scene', 87), ('007 theme music', 88), ('007 theme that', 89), ('007 theme with', 90), ('007 when pierce', 91), ('007 who has', 92), ('0079 the one', 93), ('0079 the time', 94), ('007s casewill connery', 95), ('007s goldeneye is', 96), ('007s he looks', 97), ('007s they didnt', 98), ('007the excellent cast', 99)]\n"
     ]
    }
   ],
   "source": [
    "sorted_vocab = sorted(vocab.items(), key=lambda x: x[1])\n",
    "print(sorted_vocab[:100])  # First 100 items by index"
   ]
  },
  {
   "cell_type": "code",
   "execution_count": 27,
   "id": "ebf271b9",
   "metadata": {},
   "outputs": [
    {
     "name": "stdout",
     "output_type": "stream",
     "text": [
      "[('9yearoldseven the oneliners', 38000), ('a1 airhead trying', 38001), ('a1 and the', 38002), ('a1 in my', 38003), ('a10 out of', 38004), ('a2 is better', 38005), ('a26 both designations', 38006), ('a2nd story waxworks', 38007), ('a3 skywarriors the', 38008), ('a320 shuttle passengers', 38009), ('a4th story the', 38010), ('a5 vigilantes and', 38011), ('a50 minute episode', 38012), ('a5zo al shai6an', 38013), ('a666333 has articulated', 38014), ('aa and dates', 38015), ('aa antics and', 38016), ('aa as mindless', 38017), ('aa cultrehab many', 38018), ('aa doctor she', 38019), ('aa group but', 38020), ('aa group where', 38021), ('aa is violent', 38022), ('aa jaega each', 38023), ('aa level and', 38024), ('aa meetings and', 38025), ('aa meetings are', 38026), ('aa meetings bill', 38027), ('aa meri life', 38028), ('aa milnes books', 38029), ('aa presentation and', 38030), ('aa rating and', 38031), ('aa the acting', 38032), ('aa uo uo', 38033), ('aa was not', 38034), ('aaa ball for', 38035), ('aaa even just', 38036), ('aaa for instance', 38037), ('aaa for over', 38038), ('aaa is my', 38039), ('aaa it is', 38040), ('aaa jawani diwani', 38041), ('aaa level one', 38042), ('aaa level stars', 38043), ('aaa nirupa roy', 38044), ('aaa parvarish and', 38045), ('aaa the are', 38046), ('aaa there is', 38047), ('aaa yeah if', 38048), ('aaaaaaaaaaaahhhhhhhhhhhhhh when does', 38049), ('aaaaaaah when saw', 38050), ('aaaaagh scene mixes', 38051), ('aaaaah oh never', 38052), ('aaaaargh count myself', 38053), ('aaaaarrrrrrgggggghhhhhh there is', 38054), ('aaaaatchkah this movie', 38055), ('aaaaaw cry feel', 38056), ('aaaahhhhhh what terrible', 38057), ('aaaahhhhhhh run for', 38058), ('aaaand at that', 38059), ('aaaand no its', 38060), ('aaaarrgh former bodyguard', 38061), ('aaaawwwwww it was', 38062), ('aaaggghhhhhhh cant even', 38063), ('aaaghi actually give', 38064), ('aaah and the', 38065), ('aaah my legs', 38066), ('aaahhhhhhh in the', 38067), ('aaahthe thingto see', 38068), ('aaall the way', 38069), ('aaand what about', 38070), ('aaargh and not', 38071), ('aaargh but the', 38072), ('aaargh dead man', 38073), ('aaargh wes craven', 38074), ('aaarghhow bad can', 38075), ('aaarrrghim the man', 38076), ('aaaugh the first', 38077), ('aab tak chhappan', 38078), ('aachen on palm', 38079), ('aachen two months', 38080), ('aada adhura hai', 38081), ('aadha hamaari shaadi', 38082), ('aadmittedly slim and', 38083), ('aag am not', 38084), ('aag but there', 38085), ('aag does is', 38086), ('aag doesnt come', 38087), ('aag fail as', 38088), ('aag hits the', 38089), ('aag is actually', 38090), ('aag is his', 38091), ('aag is the', 38092), ('aag is worth', 38093), ('aag it ones', 38094), ('aag jugnu anand', 38095), ('aag never carried', 38096), ('aag should not', 38097), ('aag so make', 38098), ('aag that breaks', 38099)]\n"
     ]
    }
   ],
   "source": [
    "sorted_vocab = sorted(vocab.items(), key=lambda x: x[1])\n",
    "print(sorted_vocab[38000:38100])  # First 100 items by index"
   ]
  },
  {
   "cell_type": "markdown",
   "id": "b50dee7f",
   "metadata": {},
   "source": [
    "# TF-IDF"
   ]
  },
  {
   "cell_type": "code",
   "execution_count": 28,
   "id": "2f97ca42",
   "metadata": {},
   "outputs": [
    {
     "name": "stdout",
     "output_type": "stream",
     "text": [
      "TF-IDF matrix shape: (50000, 221259)\n"
     ]
    }
   ],
   "source": [
    "from sklearn.feature_extraction.text import TfidfVectorizer\n",
    "\n",
    "tfidf_vectorizer = TfidfVectorizer()\n",
    "tfidf_matrix = tfidf_vectorizer.fit_transform(df['review'])\n",
    "\n",
    "print(\"TF-IDF matrix shape:\", tfidf_matrix.shape)"
   ]
  },
  {
   "cell_type": "code",
   "execution_count": 30,
   "id": "8384220b",
   "metadata": {},
   "outputs": [
    {
     "data": {
      "text/html": [
       "<div>\n",
       "<style scoped>\n",
       "    .dataframe tbody tr th:only-of-type {\n",
       "        vertical-align: middle;\n",
       "    }\n",
       "\n",
       "    .dataframe tbody tr th {\n",
       "        vertical-align: top;\n",
       "    }\n",
       "\n",
       "    .dataframe thead th {\n",
       "        text-align: right;\n",
       "    }\n",
       "</style>\n",
       "<table border=\"1\" class=\"dataframe\">\n",
       "  <thead>\n",
       "    <tr style=\"text-align: right;\">\n",
       "      <th></th>\n",
       "      <th>word</th>\n",
       "      <th>idf</th>\n",
       "    </tr>\n",
       "  </thead>\n",
       "  <tbody>\n",
       "    <tr>\n",
       "      <th>194312</th>\n",
       "      <td>the</td>\n",
       "      <td>1.009303</td>\n",
       "    </tr>\n",
       "    <tr>\n",
       "      <th>11373</th>\n",
       "      <td>and</td>\n",
       "      <td>1.036601</td>\n",
       "    </tr>\n",
       "    <tr>\n",
       "      <th>138049</th>\n",
       "      <td>of</td>\n",
       "      <td>1.053210</td>\n",
       "    </tr>\n",
       "    <tr>\n",
       "      <th>198356</th>\n",
       "      <td>to</td>\n",
       "      <td>1.063002</td>\n",
       "    </tr>\n",
       "    <tr>\n",
       "      <th>195911</th>\n",
       "      <td>this</td>\n",
       "      <td>1.107538</td>\n",
       "    </tr>\n",
       "    <tr>\n",
       "      <th>101549</th>\n",
       "      <td>is</td>\n",
       "      <td>1.112428</td>\n",
       "    </tr>\n",
       "    <tr>\n",
       "      <th>97851</th>\n",
       "      <td>in</td>\n",
       "      <td>1.131268</td>\n",
       "    </tr>\n",
       "    <tr>\n",
       "      <th>102050</th>\n",
       "      <td>it</td>\n",
       "      <td>1.170690</td>\n",
       "    </tr>\n",
       "    <tr>\n",
       "      <th>194056</th>\n",
       "      <td>that</td>\n",
       "      <td>1.228804</td>\n",
       "    </tr>\n",
       "    <tr>\n",
       "      <th>75469</th>\n",
       "      <td>for</td>\n",
       "      <td>1.345896</td>\n",
       "    </tr>\n",
       "    <tr>\n",
       "      <th>30357</th>\n",
       "      <td>but</td>\n",
       "      <td>1.354897</td>\n",
       "    </tr>\n",
       "    <tr>\n",
       "      <th>216172</th>\n",
       "      <td>with</td>\n",
       "      <td>1.366745</td>\n",
       "    </tr>\n",
       "    <tr>\n",
       "      <th>211615</th>\n",
       "      <td>was</td>\n",
       "      <td>1.442035</td>\n",
       "    </tr>\n",
       "    <tr>\n",
       "      <th>15185</th>\n",
       "      <td>as</td>\n",
       "      <td>1.455474</td>\n",
       "    </tr>\n",
       "    <tr>\n",
       "      <th>139243</th>\n",
       "      <td>on</td>\n",
       "      <td>1.477669</td>\n",
       "    </tr>\n",
       "    <tr>\n",
       "      <th>129009</th>\n",
       "      <td>movie</td>\n",
       "      <td>1.512881</td>\n",
       "    </tr>\n",
       "    <tr>\n",
       "      <th>136009</th>\n",
       "      <td>not</td>\n",
       "      <td>1.530844</td>\n",
       "    </tr>\n",
       "    <tr>\n",
       "      <th>88864</th>\n",
       "      <td>have</td>\n",
       "      <td>1.565407</td>\n",
       "    </tr>\n",
       "    <tr>\n",
       "      <th>20360</th>\n",
       "      <td>be</td>\n",
       "      <td>1.578625</td>\n",
       "    </tr>\n",
       "    <tr>\n",
       "      <th>14200</th>\n",
       "      <td>are</td>\n",
       "      <td>1.595387</td>\n",
       "    </tr>\n",
       "  </tbody>\n",
       "</table>\n",
       "</div>"
      ],
      "text/plain": [
       "         word       idf\n",
       "194312    the  1.009303\n",
       "11373     and  1.036601\n",
       "138049     of  1.053210\n",
       "198356     to  1.063002\n",
       "195911   this  1.107538\n",
       "101549     is  1.112428\n",
       "97851      in  1.131268\n",
       "102050     it  1.170690\n",
       "194056   that  1.228804\n",
       "75469     for  1.345896\n",
       "30357     but  1.354897\n",
       "216172   with  1.366745\n",
       "211615    was  1.442035\n",
       "15185      as  1.455474\n",
       "139243     on  1.477669\n",
       "129009  movie  1.512881\n",
       "136009    not  1.530844\n",
       "88864    have  1.565407\n",
       "20360      be  1.578625\n",
       "14200     are  1.595387"
      ]
     },
     "execution_count": 30,
     "metadata": {},
     "output_type": "execute_result"
    }
   ],
   "source": [
    "tfidf_vectorizer = TfidfVectorizer()\n",
    "tfidf_vectorizer.fit(df['review'])  # Just fit, don't need transform here\n",
    "\n",
    "# Get IDF values and their corresponding words\n",
    "idf_values = tfidf_vectorizer.idf_\n",
    "words = tfidf_vectorizer.get_feature_names_out()\n",
    "\n",
    "# Create a DataFrame for easy viewing\n",
    "idf_df = pd.DataFrame({'word': words, 'idf': idf_values})\n",
    "\n",
    "idf_df = idf_df.sort_values(by='idf')\n",
    "\n",
    "idf_df.head(20)  # Top 20 common words"
   ]
  },
  {
   "cell_type": "code",
   "execution_count": null,
   "id": "d87d3dcd",
   "metadata": {},
   "outputs": [],
   "source": []
  }
 ],
 "metadata": {
  "kernelspec": {
   "display_name": "Python 3 (ipykernel)",
   "language": "python",
   "name": "python3"
  },
  "language_info": {
   "codemirror_mode": {
    "name": "ipython",
    "version": 3
   },
   "file_extension": ".py",
   "mimetype": "text/x-python",
   "name": "python",
   "nbconvert_exporter": "python",
   "pygments_lexer": "ipython3",
   "version": "3.11.5"
  }
 },
 "nbformat": 4,
 "nbformat_minor": 5
}
